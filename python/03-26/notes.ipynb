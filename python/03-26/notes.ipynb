{
 "cells": [
  {
   "cell_type": "markdown",
   "metadata": {},
   "source": [
    "# Python kolekcijas\n",
    "Python kolekcijas sākas no 0 indeksa, kas nozīmē, ka pirmais elements ir 0 indekss, otrais ir 1 indekss utt.\n",
    "- list (saraksts) - slēgti saraksti, sakartoti, indeksēti deklarējas ar []\n",
    "  Sarakstā var glabāties dažādi elementi ar dažādiem datu tipiem, piemēram\n",
    "> a = [2, 3, 5.0, \"hello\", [1, 2, 3], {\"name\": \"Denis\"}, True]\n",
    "\n",
    "- set (kopa) - deklarējas ar {}\n",
    "- dict (vārdnīca) - deklarējas ar  {atslēga: vērtība}\n",
    "- tuple (korteži) - deklarējas ar ()"
   ]
  },
  {
   "cell_type": "code",
   "execution_count": 8,
   "metadata": {},
   "outputs": [
    {
     "name": "stdout",
     "output_type": "stream",
     "text": [
      "['Trek', 'Cannondale', 'Redline', 'Specialized']\n",
      "Trek\n",
      "Cannondale\n",
      "['Trek', 'Cannondale']\n",
      "['Trek', 'Cannondale', 'Redline']\n",
      "['Redline', 'Specialized']\n",
      "['Redline', 'Specialized']\n",
      "['Trek', 'Cannondale', 'Redline', 'Specialized'] []\n"
     ]
    }
   ],
   "source": [
    "# list examples\n",
    "bicycle = ['Trek', 'Cannondale', 'Redline', 'Specialized']\n",
    "print(bicycle)\n",
    "print(bicycle[0])  # first element\n",
    "print(bicycle[1])  # second element\n",
    "print(bicycle[0:2]) # first two elements\n",
    "print(bicycle[:3]) # first three elements\n",
    "print(bicycle[2:]) # last two elements\n",
    "print(bicycle[-2:]) # last two elements\n",
    "\n",
    "# varam inicializēt tulšo sarkastu\n",
    "a = []\n",
    "print(bicycle,a)"
   ]
  },
  {
   "cell_type": "code",
   "execution_count": 9,
   "metadata": {},
   "outputs": [
    {
     "name": "stdout",
     "output_type": "stream",
     "text": [
      "['honda', 'yamaha', 'suzuki']\n",
      "['ducati', 'yamaha', 'suzuki']\n"
     ]
    }
   ],
   "source": [
    "# Veicam satura maiņas\n",
    "motrocycles = ['honda', 'yamaha', 'suzuki']\n",
    "print(motrocycles)\n",
    "motrocycles[0] = 'ducati' # first element\n",
    "print(motrocycles)"
   ]
  },
  {
   "cell_type": "code",
   "execution_count": null,
   "metadata": {},
   "outputs": [
    {
     "name": "stdout",
     "output_type": "stream",
     "text": [
      "first owned motorclyc Yamaha\n",
      "['honda', 'yamaha', 'suzuki', 'ducati']\n",
      "['honda', 'yamaha', 'suzuki']\n"
     ]
    }
   ],
   "source": [
    "# Īpaši izmantotas fukncijas listiem\n",
    "### POP ####\n",
    "first_owned = motrocycles.pop(0) # remove first element\n",
    "print(f\"first owned motorclyc {first_owned.title()}\")\n",
    "\n",
    "### REMOVE ####\n",
    "motorcycles = ['honda', 'yamaha', 'suzuki', 'ducati']\n",
    "print(motorcycles)\n",
    "motorcycles.remove('ducati')\n",
    "print(motorcycles)\n",
    "\n",
    "### SORT ### \n",
    "cars = ['bmw', 'audi', 'toyota', 'subaru']\n",
    "cars.sort()\n",
    "print(cars)\n",
    "cars.sort(reverse=True)\n",
    "print(cars)\n",
    "numbers = [1, 3, 8, 0, 7, 2]\n",
    "numbers.sort()\n",
    "print(numbers)\n",
    "numbers.sort(reverse=True)\n",
    "print(numbers)\n"
   ]
  },
  {
   "cell_type": "code",
   "execution_count": null,
   "metadata": {},
   "outputs": [
    {
     "data": {
      "text/plain": [
       "5"
      ]
     },
     "execution_count": 15,
     "metadata": {},
     "output_type": "execute_result"
    }
   ],
   "source": [
    "## Saraksta garuma mērīšana\n",
    "# Elementu skaits sarakstā\n",
    "cars = [\"BMW\", \"Mercedes\", \"Audi\", \"Toyota\", \"Honda\"]\n",
    "len(cars)\n",
    "\n",
    "# simbolu skaits tekstā\n",
    "len(\"hello\")"
   ]
  },
  {
   "cell_type": "code",
   "execution_count": 20,
   "metadata": {},
   "outputs": [
    {
     "name": "stdout",
     "output_type": "stream",
     "text": [
      "{'name': 'John', 'age': 30, 'city': 'New York'}\n",
      "3\n",
      "['name', 'age', 'city']\n",
      "['John', 30, 'New York']\n"
     ]
    }
   ],
   "source": [
    "## Vārdnīcu izveide\n",
    "\n",
    "dd = {\n",
    "    'name': 'John',\n",
    "    'age': 30,\n",
    "    'city': 'New York'\n",
    "}\n",
    "print(dd)\n",
    "print(len(dd)) # vārdnīcas garums\n",
    "print(list(dd.keys())) # attēlo tikai atslēgas\n",
    "print(list(dd.values())) # attēlo tikai vērtības"
   ]
  },
  {
   "cell_type": "code",
   "execution_count": 21,
   "metadata": {},
   "outputs": [
    {
     "name": "stdout",
     "output_type": "stream",
     "text": [
      "[\n",
      "  {\n",
      "    \"id\": [\n",
      "      \"1\",\n",
      "      \"2\",\n",
      "      \"3\"\n",
      "    ],\n",
      "    \"name\": [\n",
      "      \"bhanu\",\n",
      "      \"sivanagulu\"\n",
      "    ],\n",
      "    \"department\": [\n",
      "      \"HR\",\n",
      "      \"IT\"\n",
      "    ]\n",
      "  },\n",
      "  {\n",
      "    \"id\": [\n",
      "      \"4\",\n",
      "      \"5\",\n",
      "      \"6\"\n",
      "    ],\n",
      "    \"name\": [\n",
      "      \"sai\",\n",
      "      \"poori\"\n",
      "    ],\n",
      "    \"department\": [\n",
      "      \"HR\",\n",
      "      \"IT\"\n",
      "    ]\n",
      "  },\n",
      "  {\n",
      "    \"id\": [\n",
      "      \"7\",\n",
      "      \"8\",\n",
      "      \"9\"\n",
      "    ],\n",
      "    \"name\": [\n",
      "      \"teja\",\n",
      "      \"gowtam\"\n",
      "    ],\n",
      "    \"department\": [\n",
      "      \"finance\",\n",
      "      \"IT\"\n",
      "    ]\n",
      "  },\n",
      "  {\n",
      "    \"id\": [\n",
      "      \"10\",\n",
      "      \"11\",\n",
      "      \"12\"\n",
      "    ],\n",
      "    \"name\": [\n",
      "      \"sai\",\n",
      "      \"jyothi\"\n",
      "    ],\n",
      "    \"department\": [\n",
      "      \"business\",\n",
      "      \"IT\"\n",
      "    ]\n",
      "  },\n",
      "  {\n",
      "    \"id\": [\n",
      "      \"13\",\n",
      "      \"14\",\n",
      "      \"15\"\n",
      "    ],\n",
      "    \"name\": [\n",
      "      \"prudhvi\",\n",
      "      \"nagendram\"\n",
      "    ],\n",
      "    \"department\": [\n",
      "      \"business\",\n",
      "      \"IT\"\n",
      "    ]\n",
      "  }\n",
      "]\n"
     ]
    }
   ],
   "source": [
    "import json\n",
    "data = [{\"id\": (\"1\", \"2\", \"3\"), \"name\": (\"bhanu\", \"sivanagulu\"), \"department\": (\"HR\", \"IT\")},\n",
    "           {\"id\": (\"4\", \"5\", \"6\"), \"name\": (\"sai\", \"poori\"), \"department\": (\"HR\", \"IT\")},\n",
    "           {\"id\": (\"7\", \"8\", \"9\"), \"name\": (\"teja\", \"gowtam\"), \"department\": (\"finance\", \"IT\")},\n",
    "           {\"id\": (\"10\", \"11\", \"12\"), \"name\": (\"sai\", \"jyothi\"), \"department\": (\"business\", \"IT\")},\n",
    "            {\"id\": (\"13\", \"14\", \"15\"), \"name\": (\"prudhvi\", \"nagendram\"),\"department\": (\"business\", \"IT\")}]\n",
    "final = json.dumps(data, indent=2) # convert into json\n",
    "print(final)"
   ]
  },
  {
   "cell_type": "markdown",
   "metadata": {},
   "source": [
    "# Branching (jeb loģikalās struktūras)\n",
    "if <nosacījums>:\n",
    "    <kods>\n",
    "elif <nosacījums>:\n",
    "    <kods>\n",
    "elif <nosacījums>:\n",
    "    <kods>  \n",
    "else:\n",
    "    <kods>"
   ]
  },
  {
   "cell_type": "markdown",
   "metadata": {},
   "source": [
    "# 09/04/25"
   ]
  }
 ],
 "metadata": {
  "kernelspec": {
   "display_name": "base",
   "language": "python",
   "name": "python3"
  },
  "language_info": {
   "codemirror_mode": {
    "name": "ipython",
    "version": 3
   },
   "file_extension": ".py",
   "mimetype": "text/x-python",
   "name": "python",
   "nbconvert_exporter": "python",
   "pygments_lexer": "ipython3",
   "version": "3.12.7"
  }
 },
 "nbformat": 4,
 "nbformat_minor": 2
}
